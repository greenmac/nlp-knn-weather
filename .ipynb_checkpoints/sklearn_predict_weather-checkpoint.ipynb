{
 "cells": [
  {
   "cell_type": "code",
   "execution_count": 1,
   "metadata": {},
   "outputs": [],
   "source": [
    "# coding=utf8\n",
    "import numpy as np\n",
    "from numpy import *\n",
    "from sklearn import neighbors"
   ]
  },
  {
   "cell_type": "code",
   "execution_count": 2,
   "metadata": {},
   "outputs": [],
   "source": [
    "'''創建數據源, 返回數據集和類標籤'''\n",
    "def creat_dataset():\n",
    "    datasets = array([[8, 4, 2], [7, 1, 1], [1, 4, 4], [3, 0, 5], [9, 4, 2], [7, 0, 1], [1, 5, 4], [4, 0, 5]]) # 數據集\n",
    "    labels = [0, 0, 1, 1, 0, 0, 1, 1] # 類標籤,[0:'非常熱', 1:'一般熱']\n",
    "    return datasets, labels"
   ]
  },
  {
   "cell_type": "code",
   "execution_count": 3,
   "metadata": {},
   "outputs": [],
   "source": [
    "def knn_sklearn_predict(newV, datasets, labels):\n",
    "    # 調用機器學習庫knn分類器算法\n",
    "    knn = neighbors.KNeighborsClassifier()\n",
    "    # 傳入參數, 特徵數據, 分類標籤\n",
    "    knn.fit(datasets, labels)\n",
    "    # knn預測\n",
    "    predict_res = knn.predict([newV])\n",
    "    print('該訪客認為天氣是:\\t', '非常熱' if predict_res[0] == 0 else '一般熱')\n",
    "    return predict_res"
   ]
  },
  {
   "cell_type": "code",
   "execution_count": 4,
   "metadata": {},
   "outputs": [],
   "source": [
    "def predict_temperature():\n",
    "    # 1.創建數據集和類標籤\n",
    "    datasets, labels = creat_dataset()\n",
    "    # 2.採訪新遊客\n",
    "    iceCream = float(input('Q:請問你今天吃了幾個冰淇淋? \\n'))\n",
    "    drinkWater = float(input('Q:請問你今天喝了幾瓶(杯)水? \\n'))\n",
    "    playAct = float(input('Q:請問你今天戶外活動幾個小時? \\n'))\n",
    "\n",
    "    newV = array([iceCream, drinkWater, playAct])\n",
    "    res = knn_sklearn_predict(newV, datasets, labels)"
   ]
  },
  {
   "cell_type": "code",
   "execution_count": 5,
   "metadata": {},
   "outputs": [
    {
     "name": "stdout",
     "output_type": "stream",
     "text": [
      "Q:請問你今天吃了幾個冰淇淋? \n",
      "2\n",
      "Q:請問你今天喝了幾瓶(杯)水? \n",
      "4\n",
      "Q:請問你今天戶外活動幾個小時? \n",
      "4\n",
      "該訪客認為天氣是:\t 一般熱\n"
     ]
    }
   ],
   "source": [
    "if __name__ == '__main__':\n",
    "    predict_temperature()"
   ]
  },
  {
   "cell_type": "code",
   "execution_count": null,
   "metadata": {},
   "outputs": [],
   "source": []
  }
 ],
 "metadata": {
  "kernelspec": {
   "display_name": "Python 3",
   "language": "python",
   "name": "python3"
  },
  "language_info": {
   "codemirror_mode": {
    "name": "ipython",
    "version": 3
   },
   "file_extension": ".py",
   "mimetype": "text/x-python",
   "name": "python",
   "nbconvert_exporter": "python",
   "pygments_lexer": "ipython3",
   "version": "3.6.7"
  }
 },
 "nbformat": 4,
 "nbformat_minor": 2
}
